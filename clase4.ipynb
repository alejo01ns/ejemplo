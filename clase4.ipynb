{
 "cells": [
  {
   "cell_type": "markdown",
   "id": "d3bf8bfe",
   "metadata": {},
   "source": [
    "POO\n",
    "\n",
    "Fundamentos de clases y objetos"
   ]
  },
  {
   "cell_type": "code",
   "execution_count": 1,
   "id": "c16be3f2",
   "metadata": {},
   "outputs": [],
   "source": [
    "class Vehiculo:\n",
    "    pais = \"Peru\"\n",
    "\n",
    "    def __init__(self,marca, modelo, color):\n",
    "        self.marca = marca\n",
    "        self.modelo = modelo\n",
    "        self.color = color\n"
   ]
  },
  {
   "cell_type": "code",
   "execution_count": 2,
   "id": "bb6bae6e",
   "metadata": {},
   "outputs": [],
   "source": [
    "vehivulo1 = Vehiculo(\"toyota\",\"corolla\",\"rojo\")\n",
    "vehivulo2 = Vehiculo(\"ford\",\"fiesta\",\"azul\")\n",
    "vehivulo3 = Vehiculo(\"honda\",\"Civic\",\"blanco\")"
   ]
  },
  {
   "cell_type": "code",
   "execution_count": 7,
   "id": "7095d1b1",
   "metadata": {},
   "outputs": [],
   "source": [
    "vehivulo1.color = \"verde\""
   ]
  },
  {
   "cell_type": "code",
   "execution_count": 8,
   "id": "fdcd24d1",
   "metadata": {},
   "outputs": [
    {
     "name": "stdout",
     "output_type": "stream",
     "text": [
      "vehiculo 1\n",
      "Marca: toyota\n",
      "Modelo: corolla\n",
      "Color: verde\n",
      "Pais: Peru\n"
     ]
    }
   ],
   "source": [
    "print(\"vehiculo 1\")\n",
    "print(f\"Marca: {vehivulo1.marca}\")\n",
    "print(f\"Modelo: {vehivulo1.modelo}\")\n",
    "print(f\"Color: {vehivulo1.color}\")\n",
    "\n",
    "print(f\"Pais: {vehivulo1.pais}\")"
   ]
  },
  {
   "cell_type": "markdown",
   "id": "0f589b73",
   "metadata": {},
   "source": [
    "### Metodos de clases e instancias ###"
   ]
  },
  {
   "cell_type": "code",
   "execution_count": null,
   "id": "98d72e75",
   "metadata": {},
   "outputs": [],
   "source": [
    "class Vehiculo:\n",
    "    pais = \"Peru\"\n",
    "\n",
    "    def __init__(self,marca, modelo, color):\n",
    "        self.marca = marca\n",
    "        self.modelo = modelo\n",
    "        self.color = color\n",
    "\n",
    "\n",
    "    # metodo de instancia\n",
    "    def mostrar_info(self):\n",
    "        print(f\"Marca: {self.marca}, Modelo: {self.modelo} ,Color: {self.color}\")\n",
    "\n",
    "    #decorador: modifica como funciona un metodo    \n",
    "    @classmethod\n",
    "\n",
    "    #metodo de clase\n",
    "    def mostrar_pais(cls):\n",
    "        print(f\"Pais: {cls.pais}\")"
   ]
  },
  {
   "cell_type": "code",
   "execution_count": 12,
   "id": "3683ec2a",
   "metadata": {},
   "outputs": [],
   "source": [
    "vehivulo1 = Vehiculo(\"toyota\",\"corolla\",\"rojo\")\n",
    "vehivulo2 = Vehiculo(\"ford\",\"fiesta\",\"azul\")\n",
    "vehivulo3 = Vehiculo(\"honda\",\"Civic\",\"blanco\")"
   ]
  },
  {
   "cell_type": "code",
   "execution_count": 15,
   "id": "6e0e5891",
   "metadata": {},
   "outputs": [
    {
     "name": "stdout",
     "output_type": "stream",
     "text": [
      "vehivulo 1\n",
      "Marca: toyota, Modelo: corolla ,Color: rojo\n",
      "vehivulo 2\n",
      "Marca: ford, Modelo: fiesta ,Color: azul\n",
      "vehivulo 3\n",
      "Marca: honda, Modelo: Civic ,Color: blanco\n"
     ]
    }
   ],
   "source": [
    "print(\"vehivulo 1\")\n",
    "vehivulo1.mostrar_info()\n",
    "print(\"vehivulo 2\")\n",
    "vehivulo2.mostrar_info()\n",
    "print(\"vehivulo 3\")\n",
    "vehivulo3.mostrar_info()\n"
   ]
  },
  {
   "cell_type": "code",
   "execution_count": 17,
   "id": "f58c8c6d",
   "metadata": {},
   "outputs": [
    {
     "name": "stdout",
     "output_type": "stream",
     "text": [
      "vehivulo 1\n",
      "Pais: Peru\n",
      "vehivulo 2\n",
      "Pais: Peru\n",
      "vehivulo 3\n",
      "Pais: Peru\n",
      "----- ----- -----\n",
      "Pais: Peru\n"
     ]
    }
   ],
   "source": [
    "print(\"vehivulo 1\")\n",
    "vehivulo1.mostrar_pais()\n",
    "print(\"vehivulo 2\")\n",
    "vehivulo2.mostrar_pais()\n",
    "print(\"vehivulo 3\")\n",
    "vehivulo3.mostrar_pais()\n",
    "print(\"----- ----- -----\")\n",
    "Vehiculo.mostrar_pais()\n",
    "\n"
   ]
  },
  {
   "cell_type": "markdown",
   "id": "953d2549",
   "metadata": {},
   "source": [
    "## Encapsulamiento"
   ]
  },
  {
   "cell_type": "code",
   "execution_count": 18,
   "id": "8e8cb72e",
   "metadata": {},
   "outputs": [],
   "source": [
    "class Persona:\n",
    "    def __init__(self, nombre, edad, estado_civil, dni):\n",
    "        self.nombre = nombre\n",
    "        self.edad = edad\n",
    "        self._estado_civil = estado_civil\n",
    "        self.__dni = dni\n",
    "    \n",
    "    def get_estado_civil(self):\n",
    "        return self._estado_civil\n",
    "    \n",
    "    def set_estado_civil(self, nuevo_valor):\n",
    "        self._estado_civil = nuevo_valor\n",
    "\n",
    "    def get_dni(self):\n",
    "        return self.__dni\n",
    "    \n",
    "    def set_dni(self, nuevo_valor):\n",
    "        self.__dni = nuevo_valor\n"
   ]
  },
  {
   "cell_type": "code",
   "execution_count": 22,
   "id": "84f95d2e",
   "metadata": {},
   "outputs": [
    {
     "name": "stdout",
     "output_type": "stream",
     "text": [
      "atributos publicos\n",
      "pepe\n",
      "45\n",
      "atributos protegidos\n"
     ]
    },
    {
     "ename": "AttributeError",
     "evalue": "'Persona' object has no attribute 'get_estado_civil'",
     "output_type": "error",
     "traceback": [
      "\u001b[31m---------------------------------------------------------------------------\u001b[39m",
      "\u001b[31mAttributeError\u001b[39m                            Traceback (most recent call last)",
      "\u001b[36mCell\u001b[39m\u001b[36m \u001b[39m\u001b[32mIn[22]\u001b[39m\u001b[32m, line 7\u001b[39m\n\u001b[32m      5\u001b[39m \u001b[38;5;28mprint\u001b[39m(persona1.edad)\n\u001b[32m      6\u001b[39m \u001b[38;5;28mprint\u001b[39m(\u001b[33m\"\u001b[39m\u001b[33matributos protegidos\u001b[39m\u001b[33m\"\u001b[39m)\n\u001b[32m----> \u001b[39m\u001b[32m7\u001b[39m \u001b[38;5;28mprint\u001b[39m(\u001b[43mpersona1\u001b[49m\u001b[43m.\u001b[49m\u001b[43mget_estado_civil\u001b[49m)\n\u001b[32m      9\u001b[39m \u001b[38;5;28mprint\u001b[39m(\u001b[33m\"\u001b[39m\u001b[33matributos privados\u001b[39m\u001b[33m\"\u001b[39m)\n",
      "\u001b[31mAttributeError\u001b[39m: 'Persona' object has no attribute 'get_estado_civil'"
     ]
    }
   ],
   "source": [
    "persona1 = Persona(\"pepe\", 45 , \"casado\", 70843840)\n",
    "\n",
    "print(\"atributos publicos\")\n",
    "print(persona1.nombre)\n",
    "print(persona1.edad)\n",
    "print(\"atributos protegidos\")\n",
    "print(persona1.get_estado_civil)\n",
    "\n",
    "print(\"atributos privados\")"
   ]
  },
  {
   "cell_type": "code",
   "execution_count": 20,
   "id": "97658883",
   "metadata": {},
   "outputs": [],
   "source": [
    "class Persona:\n",
    "    def __init__(self, nombre, edad, estado_civil, dni):\n",
    "        self.nombre = nombre\n",
    "        self.edad = edad\n",
    "        self._estado_civil = estado_civil\n",
    "        self.__dni = dni\n",
    "    \n",
    "    #\n",
    "    @property\n",
    "    def estado_civil(self):\n",
    "        return self._estado_civil\n",
    "\n",
    "    @estado_civil.setter\n",
    "    def estado_civil(self, nuevo_valor):\n",
    "        self._estado_civil = nuevo_valor\n",
    "\n",
    "    @property\n",
    "    def dni(self):\n",
    "        return self.__dni\n",
    "    \n",
    "    @dni.setter\n",
    "    def dni(self, nuevo_valor):\n",
    "        self.__dni = nuevo_valor"
   ]
  },
  {
   "cell_type": "code",
   "execution_count": 24,
   "id": "d053965e",
   "metadata": {},
   "outputs": [
    {
     "name": "stdout",
     "output_type": "stream",
     "text": [
      "atributos publicos\n",
      "pepe\n",
      "45\n",
      "atributos protegidos\n",
      "casado\n",
      "atributos privados\n",
      "70843840\n"
     ]
    }
   ],
   "source": [
    "persona1 = Persona(\"pepe\", 45 , \"casado\", 70843840)\n",
    "\n",
    "print(\"atributos publicos\")\n",
    "print(persona1.nombre)\n",
    "print(persona1.edad)\n",
    "print(\"atributos protegidos\")\n",
    "print(persona1.estado_civil)\n",
    "\n",
    "print(\"atributos privados\")\n",
    "print(persona1.dni)\n"
   ]
  },
  {
   "cell_type": "code",
   "execution_count": 25,
   "id": "4d72f24e",
   "metadata": {},
   "outputs": [],
   "source": [
    "class Mamiferos:\n",
    "    def __init__(self, especie, tamanio, peso):\n",
    "        self.especie = especie\n",
    "        self.tamaño = tamanio\n",
    "        self.peso = peso\n",
    "\n",
    "    def moverse(self):\n",
    "        print(\"mestoy moviendo.\")\n",
    "\n",
    "class Mascota(Mamiferos):\n",
    "    def __init__(self, especie, tamanio, peso, nombre, raza):\n",
    "        super().__init__(especie, tamanio, peso)\n",
    "        self.nombre = nombre\n",
    "        self.raza = raza\n",
    "    \n",
    "    def comer(self):\n",
    "        print(\"estoy comiendo\")"
   ]
  },
  {
   "cell_type": "code",
   "execution_count": 29,
   "id": "74e9b725",
   "metadata": {},
   "outputs": [
    {
     "name": "stdout",
     "output_type": "stream",
     "text": [
      "estoy comiendo\n"
     ]
    }
   ],
   "source": [
    "mascota1 = Mascota(\"gato\",\"variado\",\"variado\",\"luna\",\"pelo largo\")\n",
    "\n",
    "mascota1.comer()"
   ]
  },
  {
   "cell_type": "markdown",
   "id": "44704c67",
   "metadata": {},
   "source": [
    "### Polimorfismo"
   ]
  },
  {
   "cell_type": "code",
   "execution_count": null,
   "id": "03b34658",
   "metadata": {},
   "outputs": [],
   "source": []
  }
 ],
 "metadata": {
  "kernelspec": {
   "display_name": "Python 3",
   "language": "python",
   "name": "python3"
  },
  "language_info": {
   "codemirror_mode": {
    "name": "ipython",
    "version": 3
   },
   "file_extension": ".py",
   "mimetype": "text/x-python",
   "name": "python",
   "nbconvert_exporter": "python",
   "pygments_lexer": "ipython3",
   "version": "3.11.9"
  }
 },
 "nbformat": 4,
 "nbformat_minor": 5
}
